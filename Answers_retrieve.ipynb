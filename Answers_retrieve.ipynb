{
 "cells": [
  {
   "cell_type": "code",
   "execution_count": 9,
   "metadata": {
    "collapsed": true
   },
   "outputs": [],
   "source": [
    "#Create a cluster\n",
    "import subprocess\n",
    "import json\n",
    "import shlex\n",
    "import os\n",
    "from watson_developer_cloud import RetrieveAndRankV1\n",
    "import pysolr"
   ]
  },
  {
   "cell_type": "code",
   "execution_count": 25,
   "metadata": {
    "collapsed": false
   },
   "outputs": [
    {
     "name": "stdout",
     "output_type": "stream",
     "text": [
      "Cluster rr_andriod_cluster already exists with ID solr_id.\n",
      "{\n",
      "    \"clusters\": [\n",
      "        {\n",
      "            \"cluster_name\": \"\",\n",
      "            \"cluster_size\": \"\",\n",
      "            \"solr_cluster_id\": \"solr_id\",\n",
      "            \"solr_cluster_status\": \"READY\"\n",
      "        },\n",
      "        {\n",
      "            \"cluster_name\": \"rr_andriod_cluster\",\n",
      "            \"cluster_size\": \"1\",\n",
      "            \"solr_cluster_id\": \"solr_id\",\n",
      "            \"solr_cluster_status\": \"READY\"\n",
      "        }\n",
      "    ]\n",
      "}\n"
     ]
    }
   ],
   "source": [
    "#getting current directory\n",
    "curdir = os.getcwd()\n",
    "\n",
    "#loading credentials\n",
    "credFilePath = curdir+'\\\\answer-retrieval-master\\\\config\\\\credentials.json'\n",
    "credentials = ''\n",
    "\n",
    "credentials ={\n",
    "  \"username\": \"username\",\n",
    "  \"password\": \"password\",\n",
    "  \"url\": \"https://gateway.watsonplatform.net/retrieve-and-rank/api/v1/\",\n",
    "  \"cs_ranker_id\": \"CUSTOM_RANKER_ID\",\n",
    "  \"ranker_id\": \"RANKER_ID\",\n",
    "  \"collection_name\": \"Alarm_collection\",\n",
    "  \"config_name\": \"Alarm_config_new\",\n",
    "  \"cluster_id\": \"solrid\",\n",
    "}\n",
    "\n",
    "BASEURL=credentials['url']\n",
    "SOLRURL= BASEURL+\"solr_clusters/\"\n",
    "USERNAME=credentials['username']\n",
    "PASSWORD=credentials['password']\n",
    "\n",
    "#please provide the name and size of the cluster below\n",
    "CLUSTER_NAME=\"rr_andriod_cluster\"\n",
    "CLUSTER_SIZE=1  #Size of the cluster to create. Ranges from 1 to 7. \n",
    "                #Send an empty value to create a small free cluster for testing. \n",
    "                #You can create only one free cluster.\n",
    "\n",
    "#Checking if cluster with same name already exists\n",
    "retrieve_and_rank = RetrieveAndRankV1(\n",
    "    username=USERNAME,\n",
    "    password=PASSWORD)\n",
    "found = False\n",
    "cluster_id = ''\n",
    "output = retrieve_and_rank.list_solr_clusters()\n",
    "try:\n",
    "    parsed_json = output\n",
    "    clusters = parsed_json['clusters']\n",
    "    for i in range(len(clusters)):\n",
    "        cluster_json = clusters[i]\n",
    "        if cluster_json['cluster_name'] == CLUSTER_NAME:\n",
    "            found = True\n",
    "            cluster_id = cluster_json['solr_cluster_id']\n",
    "except:\n",
    "    print ('Command:')\n",
    "    print ('retrieve_and_rank.list_solr_clusters()')\n",
    "    print ('Response:')\n",
    "    print (output) \n",
    "\n",
    "if found:\n",
    "    print (\"Cluster \"+CLUSTER_NAME+\" already exists with ID \"+cluster_id+\".\")\n",
    "    print (json.dumps(parsed_json, sort_keys=True, indent=4))\n",
    "else:\n",
    "    #Running command that creates a cluster\n",
    "    output = retrieve_and_rank.create_solr_cluster(cluster_name=CLUSTER_NAME,cluster_size=CLUSTER_SIZE)\n",
    "\n",
    "    try:\n",
    "        parsed_json = output\n",
    "        print (json.dumps(parsed_json, sort_keys=True, indent=4))\n",
    "        credentials['cluster_id'] = parsed_json['solr_cluster_id']\n",
    "        with open(credFilePath, 'w') as credFileUpdated:\n",
    "            json.dump(credentials, credFileUpdated)\n",
    "    except:\n",
    "        print ('Command:')\n",
    "        print ('retrieve_and_rank.create_solr_cluster')\n",
    "        print ('Response:')\n",
    "        print (output)"
   ]
  },
  {
   "cell_type": "code",
   "execution_count": 26,
   "metadata": {
    "collapsed": false
   },
   "outputs": [
    {
     "name": "stdout",
     "output_type": "stream",
     "text": [
      "Command:\n",
      "retrieve_and_rank.get_solr_cluster_status\n",
      "Response:\n",
      "{'cluster_size': '1', 'solr_cluster_status': 'READY', 'solr_cluster_id': 'scdc06a2ff_d53c_47d7_bd93_9ab8c17b77d3', 'cluster_name': 'rr_andriod_cluster'}\n"
     ]
    }
   ],
   "source": [
    "#check the status\n",
    "curdir = os.getcwd()\n",
    "\n",
    "#loading credentials\n",
    "credFilePath = curdir+'/answer-retrieval-master/config/credentials.json'\n",
    "credentials = ''\n",
    "with open(credFilePath) as credFile:\n",
    "    credentials = json.load(credFile)\n",
    "USERNAME=credentials['username']\n",
    "PASSWORD=credentials['password']\n",
    "#get cluster id from the loaded credentials in Step 1\n",
    "CLUSTER_ID=credentials['cluster_id']\n",
    " \n",
    "retrieve_and_rank = RetrieveAndRankV1(\n",
    "    username=USERNAME,\n",
    "    password=PASSWORD)\n",
    "\n",
    "#Running command that checks the status of a cluster\n",
    "output = retrieve_and_rank.get_solr_cluster_status(solr_cluster_id=CLUSTER_ID)\n",
    "\n",
    "try:\n",
    "    parsed_json = json.loads(output)\n",
    "    print (json.dumps(parsed_json, sort_keys=True, indent=4))\n",
    "except:\n",
    "    print ('Command:')\n",
    "    print ('retrieve_and_rank.get_solr_cluster_status')\n",
    "    print ('Response:')\n",
    "    print (output)"
   ]
  },
  {
   "cell_type": "code",
   "execution_count": 27,
   "metadata": {
    "collapsed": false
   },
   "outputs": [
    {
     "name": "stdout",
     "output_type": "stream",
     "text": [
      "{\n",
      "    \"message\": \"WRRCSR026: Successfully uploaded named config [rr_android_config] for Solr cluster [scdc06a2ff_d53c_47d7_bd93_9ab8c17b77d3].\",\n",
      "    \"statusCode\": 200\n",
      "}\n"
     ]
    }
   ],
   "source": [
    "#upload config\n",
    "curdir = os.getcwd()\n",
    "\n",
    "#loading credentials\n",
    "credFilePath = curdir+'/answer-retrieval-master/config/credentials.json'\n",
    "credentials = ''\n",
    "with open(credFilePath) as credFile:\n",
    "    credentials = json.load(credFile)\n",
    "USERNAME=credentials['username']\n",
    "PASSWORD=credentials['password']\n",
    "# upload config\n",
    "#getting relative path to config file\n",
    "CONFIG_PATH=curdir+\"/answer-retrieval-master/config/\"\n",
    "\n",
    "#get cluster id from the loaded credentials in Step 1\n",
    "SOLR_CLUSTER_ID=credentials['cluster_id']\n",
    "found = False\n",
    "\n",
    "#please provide the configuration name and and the path to the zip file\n",
    "CONFIG_NAME=\"rr_android_config\"   #Do not add spaces or special characters\n",
    "CONFIG_FILE_NAME=\"config.zip\" #Change this if you renamed the file\n",
    "\n",
    "retrieve_and_rank = RetrieveAndRankV1(\n",
    "    username=USERNAME,\n",
    "    password=PASSWORD)\n",
    "\n",
    "# Check if config exists\n",
    "output = retrieve_and_rank.list_configs(solr_cluster_id=SOLR_CLUSTER_ID)\n",
    "try:\n",
    "    configs = output['solr_configs']\n",
    "    for i in range(len(configs)):\n",
    "        config_name = configs[i]\n",
    "        if config_name == CONFIG_NAME:\n",
    "            found = True\n",
    "except:\n",
    "    print ('Command:')\n",
    "    print ('retrieve_and_rank.list_solr_clusters()')\n",
    "    print ('Response:')\n",
    "    print (output) \n",
    "\n",
    "if found:\n",
    "    print (\"Configuration \"+CONFIG_NAME+\" already exists.\")\n",
    "    print (json.dumps(output, sort_keys=True, indent=4))\n",
    "else:\n",
    "    #Running command that uploads a configuration to solr\n",
    "    with open(CONFIG_PATH + CONFIG_FILE_NAME, 'rb') as config:\n",
    "        output = retrieve_and_rank.create_config(SOLR_CLUSTER_ID, CONFIG_NAME, config)\n",
    "\n",
    "    try:\n",
    "        print (json.dumps(output, sort_keys=True, indent=4))\n",
    "        credentials['config_name'] = CONFIG_NAME\n",
    "        with open(credFilePath, 'w') as credFileUpdated:\n",
    "            json.dump(credentials, credFileUpdated)\n",
    "    except:\n",
    "        print ('Command:')\n",
    "        print ('retrieve_and_rank.create_config()')\n",
    "        print ('Response:')\n",
    "        print (output)"
   ]
  },
  {
   "cell_type": "code",
   "execution_count": 28,
   "metadata": {
    "collapsed": false,
    "scrolled": true
   },
   "outputs": [
    {
     "name": "stdout",
     "output_type": "stream",
     "text": [
      "{\n",
      "    \"responseHeader\": {\n",
      "        \"QTime\": 11088,\n",
      "        \"status\": 0\n",
      "    },\n",
      "    \"success\": {\n",
      "        \"10.176.42.104:6473_solr\": {\n",
      "            \"core\": \"rr_andriod_collection_shard1_replica2\",\n",
      "            \"responseHeader\": {\n",
      "                \"QTime\": 2403,\n",
      "                \"status\": 0\n",
      "            }\n",
      "        },\n",
      "        \"10.176.42.208:5089_solr\": {\n",
      "            \"core\": \"rr_andriod_collection_shard1_replica1\",\n",
      "            \"responseHeader\": {\n",
      "                \"QTime\": 2791,\n",
      "                \"status\": 0\n",
      "            }\n",
      "        }\n",
      "    }\n",
      "}\n"
     ]
    }
   ],
   "source": [
    "#create a collection\n",
    "curdir = os.getcwd()\n",
    "\n",
    "#loading credentials\n",
    "credFilePath = curdir+'/answer-retrieval-master/config/credentials.json'\n",
    "credentials = ''\n",
    "with open(credFilePath) as credFile:\n",
    "    credentials = json.load(credFile)\n",
    "USERNAME=credentials['username']\n",
    "PASSWORD=credentials['password']\n",
    "\n",
    "#get cluster id and config name from the loaded credentials in Step 1\n",
    "SOLR_CLUSTER_ID=credentials['cluster_id']\n",
    "CONFIG_NAME=credentials['config_name']\n",
    "found = False\n",
    "\n",
    "#please provide the collection name\n",
    "COLLECTION_NAME=\"rr_andriod_collection\"   #Do not add spaces or special characters\n",
    "\n",
    "retrieve_and_rank = RetrieveAndRankV1(\n",
    "    username=USERNAME,\n",
    "    password=PASSWORD)\n",
    "\n",
    "#Check to see if collection exists\n",
    "output = retrieve_and_rank.list_collections(solr_cluster_id=SOLR_CLUSTER_ID)\n",
    "\n",
    "try:\n",
    "    collections = output['collections']\n",
    "    for i in range(len(collections)):\n",
    "        collection_name = collections[i]\n",
    "        if collection_name == COLLECTION_NAME:\n",
    "            found = True\n",
    "except:\n",
    "    print ('Command:')\n",
    "    print ('retrieve_and_rank.list_collections')\n",
    "    print ('Response:')\n",
    "    print (output) \n",
    "    \n",
    "if found:\n",
    "    print (\"Collection \"+COLLECTION_NAME+\" already exists.\")\n",
    "    print (json.dumps(output, sort_keys=True, indent=4))\n",
    "else:\n",
    "    #Running command to create a new collection\n",
    "    output = retrieve_and_rank.create_collection(SOLR_CLUSTER_ID, COLLECTION_NAME, CONFIG_NAME)\n",
    "    try:\n",
    "        print (json.dumps(output, sort_keys=True, indent=4))\n",
    "        credentials['collection_name'] = COLLECTION_NAME\n",
    "        with open(credFilePath, 'w') as credFileUpdated:\n",
    "            json.dump(credentials, credFileUpdated)\n",
    "    except:\n",
    "        print ('Command:')\n",
    "        print ('retrieve_and_rank.create_collection()')\n",
    "        print ('Response:')\n",
    "        print (output)"
   ]
  },
  {
   "cell_type": "code",
   "execution_count": 30,
   "metadata": {
    "collapsed": false
   },
   "outputs": [
    {
     "name": "stdout",
     "output_type": "stream",
     "text": [
      "<?xml version=\"1.0\" encoding=\"UTF-8\"?>\n",
      "<response>\n",
      "<lst name=\"responseHeader\"><int name=\"status\">0</int><int name=\"QTime\">15493</int></lst>\n",
      "</response>\n",
      "\n"
     ]
    }
   ],
   "source": [
    "#populate the collection\n",
    "curdir = os.getcwd()\n",
    " \n",
    "#get cluster id and collection name from the loaded credentials in Step 1\n",
    "BASEURL=credentials['url']\n",
    "SOLRURL= BASEURL+\"solr_clusters/\"\n",
    "USERNAME=credentials['username']\n",
    "PASSWORD=credentials['password']\n",
    "SOLR_CLUSTER_ID=credentials['cluster_id']\n",
    "COLLECTION_NAME=credentials['collection_name']\n",
    "\n",
    "retrieve_and_rank = RetrieveAndRankV1(\n",
    "    username=USERNAME,\n",
    "    password=PASSWORD)\n",
    "\n",
    "#please make sure your documents are in data/content/solrDocuments.json or modify the path below\n",
    "SOLR_DOCUMENTS_PATH=curdir+\"/answer-retrieval-master/data/content/solrDocuments.json\"\n",
    "\n",
    "#Get Solr Client Handle\n",
    "pysolr_client = retrieve_and_rank.get_pysolr_client(SOLR_CLUSTER_ID, COLLECTION_NAME)\n",
    "\n",
    "#Add documents\n",
    "with open(SOLR_DOCUMENTS_PATH) as data_file:    \n",
    "    data = json.load(data_file)\n",
    "output = pysolr_client.add(data)\n",
    "\n",
    "#Running command that index documents\n",
    "try:\n",
    "    print (output)\n",
    "except:\n",
    "    print ('Command:')\n",
    "    print ('pysolr_client.add()')\n",
    "    print ('Response:')\n",
    "    print (output)"
   ]
  },
  {
   "cell_type": "code",
   "execution_count": 31,
   "metadata": {
    "collapsed": false
   },
   "outputs": [
    {
     "name": "stdout",
     "output_type": "stream",
     "text": [
      "[{'answer': [\"There are a few ways to visit Antarctica. Remember that nothing is ever guaranteed strong and it's quite possible with weather that you might not make it there. Cruises strong Larger cruises often will get you close but not to the land. You'll have the comforts of cruising. These big ships may be regulated soon. Smaller ships will often let you get right onto land. Costs start at least 5k for the ultra cheap . Tailored Expeditions strong Many companies run specialty expeditions which let you visit Antarctica exactly how you want. Prices are extremely high for this. Airborne strong You get to fly over Antarctica. This is the more ecological way to see it but doesn't have the same experience as actually walking on it. This is also the cheapest option. \"], 'subtitle': ['A year ago I was reading some magazine and found out that there is availability to get a trip to Antarctica. Unfortunately there was no info about how I could get there. Do you know anything about it? Best way to get there best route maybe some feedback? '], 'userReputation': [1918], '_version_': 1577028201478094848, 'userId': ['9'], 'views': [3219], 'accepted': [1], 'title': ['How can I visit Antarctica?'], 'downModVotes': [0], 'tags': ['<extreme-tourism><antarctica>'], 'answerScore': [46], 'id': '12', 'authorUserId': ['19'], 'upModVotes': [46], 'authorUsername': ['VMAtm'], 'username': ['silent1mezzo']}, {'answer': [\"I think the current usual solution is to get a debit card or failing that a credit card with low no foreign transaction and cash withdrawl fees. In the UK the Halifax Clarity Card is the best for this at the moment Then when you get to the country take out cash periodically. Not too much in case of issues but don't assume you can do it too often as you may not always be able to find a cash machine depending on where you are. It's worth getting a little bit of currency before you go if you don't have it left over from another trip so you can buy a coffee while you wait for everyone who got off the plane quicker than you to finish using the cash machine at the port airport station Edit strong Since you've said you're in the US I can't suggest the best card for you to get to avoid minimise foreign transaction fees but asking on the personal finance SE site a is likely the best bet for finding out what that card is. \"], 'subtitle': [\"Recently my wife and I traveled to Italy and before we left we got about 85 of our money in travelers checks and the other 15 we carried on in cash. When we arrived there no one would take our travelers checks and many places did not accept credit cards. Eventually we found some currency exchange places that would take the travelers checks and give us Euro's but at a 7 15 fee which was not really a very fun surprise. While I was under the impression that it is safer to use travelers checks it seems that they were not really accepted the usual explanation being fraud . So the question is is it best to just exchange your currency at home and carry all of it with you when you travel or are there other alternatives to carrying cash that are safer and cost effective? \"], 'userReputation': [36387], '_version_': 1577028201482289152, 'userId': ['26'], 'views': [11525], 'accepted': [1], 'title': ['When traveling to a country with a different currency how should you take your money?'], 'downModVotes': [0], 'tags': ['<safety><international-travel><money><exchange>'], 'answerScore': [91], 'id': '17', 'authorUserId': ['10'], 'upModVotes': [91], 'authorUsername': ['Darren Kopp'], 'username': ['Gagravarr']}, {'answer': ['What I now do and it has worked really well for a few years is plan on average how much I will need leave it all in a bank account with a visa debit card maestro doesnt always work . I then just draw it out in 2 3 goes. Safe convenient easy and cheap. '], 'subtitle': [\"Recently my wife and I traveled to Italy and before we left we got about 85 of our money in travelers checks and the other 15 we carried on in cash. When we arrived there no one would take our travelers checks and many places did not accept credit cards. Eventually we found some currency exchange places that would take the travelers checks and give us Euro's but at a 7 15 fee which was not really a very fun surprise. While I was under the impression that it is safer to use travelers checks it seems that they were not really accepted the usual explanation being fraud . So the question is is it best to just exchange your currency at home and carry all of it with you when you travel or are there other alternatives to carrying cash that are safer and cost effective? \"], 'userReputation': [371], '_version_': 1577028201489629184, 'userId': ['35'], 'views': [11525], 'accepted': [0], 'title': ['When traveling to a country with a different currency how should you take your money?'], 'downModVotes': [0], 'tags': ['<safety><international-travel><money><exchange>'], 'answerScore': [16], 'id': '18', 'authorUserId': ['10'], 'upModVotes': [16], 'authorUsername': ['Darren Kopp'], 'username': ['Nikolay Piryankov']}, {'answer': [\"First of all you should check the main way to pay in the country you are going to. Also check the way to change your money to your host country's currency. When using a debit credit card remember that it can become broken or simply stop working and you should have some cash to solve this potential problem. \"], 'subtitle': [\"Recently my wife and I traveled to Italy and before we left we got about 85 of our money in travelers checks and the other 15 we carried on in cash. When we arrived there no one would take our travelers checks and many places did not accept credit cards. Eventually we found some currency exchange places that would take the travelers checks and give us Euro's but at a 7 15 fee which was not really a very fun surprise. While I was under the impression that it is safer to use travelers checks it seems that they were not really accepted the usual explanation being fraud . So the question is is it best to just exchange your currency at home and carry all of it with you when you travel or are there other alternatives to carrying cash that are safer and cost effective? \"], 'userReputation': [14507], '_version_': 1577028201498017792, 'userId': ['19'], 'views': [11525], 'accepted': [0], 'title': ['When traveling to a country with a different currency how should you take your money?'], 'downModVotes': [1], 'tags': ['<safety><international-travel><money><exchange>'], 'answerScore': [12], 'id': '23', 'authorUserId': ['10'], 'upModVotes': [13], 'authorUsername': ['Darren Kopp'], 'username': ['VMAtm']}, {'answer': ['Credit Cards are a fairly safe method when they are accepted. Note however that save for very few credit cards the vast majority will charge you a conversion fee on each transaction around 2 5 . Using a debit card and taking out money at an ATM when needed is another alternative although you again may be limited by the ATM network . There are also fees but usually not as dire as the dedicated exchanges. You may also find that banks that are off the tourist traps will give better exchange rates. From my experience when traveling in a first world country you are safe taking about 20 in cash for incidentals filling in the rest with debit withdrawals and credit cards as available. Be sure to call your credit card company and your bank before you leave and let them know your dates of travel. It will save you uncomfortable moments in front of an ATM or in a restaurant when your transaction is denied. Finally be aware of your debit card daily and one time withdrawal limits. Because of the fees you may well want to withdraw up to the max and if your max is too low and if you can only withdraw up to that max once a day your access to cash may be restricted. When you are calling your bank also inquire about these limits and see if you can have them raised if necessary. '], 'subtitle': [\"Recently my wife and I traveled to Italy and before we left we got about 85 of our money in travelers checks and the other 15 we carried on in cash. When we arrived there no one would take our travelers checks and many places did not accept credit cards. Eventually we found some currency exchange places that would take the travelers checks and give us Euro's but at a 7 15 fee which was not really a very fun surprise. While I was under the impression that it is safer to use travelers checks it seems that they were not really accepted the usual explanation being fraud . So the question is is it best to just exchange your currency at home and carry all of it with you when you travel or are there other alternatives to carrying cash that are safer and cost effective? \"], 'userReputation': [727], '_version_': 1577028201500114944, 'userId': ['23'], 'views': [11525], 'accepted': [0], 'title': ['When traveling to a country with a different currency how should you take your money?'], 'downModVotes': [0], 'tags': ['<safety><international-travel><money><exchange>'], 'answerScore': [14], 'id': '24', 'authorUserId': ['10'], 'upModVotes': [14], 'authorUsername': ['Darren Kopp'], 'username': ['Michael Teper']}, {'answer': [\"Round the world fares do exist. Most airline alliances and occasionally single airlines offer around the world fares. OneWorld a includes British Airways American Airlines Cathay Pacfic li Star Alliance a includes Lufthansa United li Air New Zealand a li ul It can be very cost effective especially for premium class business and first class fares . There are limits on all of them usually they prevent backtracking across a continent a limited number of segments and only visiting each continent once once you leave you don't go back . Flyertalk a is a forum with a lot of trip reports done on RTW fares check the trip reports forum . In response to your comment usually if you arrive at one airport and depart from another then that counts as an overland segment and counts towards your ticket usage. For example if you flew from New York to Berlin took the train to Madrid and then flew out from Madrid to Cairo three segments would be used New York Berlin li Berlin Madrid overland segment li Madrid Cairo li ul It doesn't matter if you fly or not it still takes away from your overall segment limit. A segment refers to one specific flight. \"], 'subtitle': ['I have heard rumours of such things and have had a difficult time find information on around the world flights. Are they worth it do you have a limit between usage do you save money.. etc. and are there easy ways of getting more informed on them specific sites travel agencies ? Edit strong With the goal of maximum continental coverage no specific start or finish locations '], 'userReputation': [6644], '_version_': 1577028201504309248, 'userId': ['30'], 'views': [2260], 'accepted': [1], 'title': ['What should I know about Around The World flights?'], 'downModVotes': [0], 'tags': ['<air-travel><around-the-world>'], 'answerScore': [26], 'id': '32', 'authorUserId': ['8'], 'upModVotes': [26], 'authorUsername': ['Seanland'], 'username': ['victoriah']}, {'answer': [\"Before you leave call your bank. You'll want to alert them that you'll be using your credit or debit cards overseas so as not to trigger fraud alerts. Then ask them if there is a network in your destination that involves lower fees. For example my bank gave me names of specific banks in England Italy and Germany and told me that if I used ATMs at those banks I would not be charged extra service fees. Very reassuring. \"], 'subtitle': [\"Recently my wife and I traveled to Italy and before we left we got about 85 of our money in travelers checks and the other 15 we carried on in cash. When we arrived there no one would take our travelers checks and many places did not accept credit cards. Eventually we found some currency exchange places that would take the travelers checks and give us Euro's but at a 7 15 fee which was not really a very fun surprise. While I was under the impression that it is safer to use travelers checks it seems that they were not really accepted the usual explanation being fraud . So the question is is it best to just exchange your currency at home and carry all of it with you when you travel or are there other alternatives to carrying cash that are safer and cost effective? \"], 'userReputation': [38372], '_version_': 1577028201507454976, 'userId': ['46'], 'views': [11525], 'accepted': [0], 'title': ['When traveling to a country with a different currency how should you take your money?'], 'downModVotes': [0], 'tags': ['<safety><international-travel><money><exchange>'], 'answerScore': [81], 'id': '35', 'authorUserId': ['10'], 'upModVotes': [81], 'authorUsername': ['Darren Kopp'], 'username': ['Kate Gregory']}, {'answer': ['It really depends not only on where you are going but also from where you are coming. I usually carry with me enough money to pay for everything I need on the first 3 days. The rest of my money I try to get with my credit cards and I usually try to carry two of them. Always try to pay for hotel car and other similar before you start your trip. In this case at least you will be able to sleep the first night. Try to get the money in the country currency instead of in an intermediate currency to avoid double fees. Also try to not do your money exchange in the airport. If possible not even in your hotel. These are the two who charge highest fees. Most of the US credit debit cards are not the so called smart cards or card with chip . This was an issue for me in some places in France back in 2004 when I could not buy some last minute souvenirs. I also try to not get money back from the country. Usually I try to spend all of them but if I could not I try to pay for some incidentals in the hotel using this money. You can always try to pay part of your hotel with local cash and part with a credit card if you have not payed in advance. '], 'subtitle': [\"Recently my wife and I traveled to Italy and before we left we got about 85 of our money in travelers checks and the other 15 we carried on in cash. When we arrived there no one would take our travelers checks and many places did not accept credit cards. Eventually we found some currency exchange places that would take the travelers checks and give us Euro's but at a 7 15 fee which was not really a very fun surprise. While I was under the impression that it is safer to use travelers checks it seems that they were not really accepted the usual explanation being fraud . So the question is is it best to just exchange your currency at home and carry all of it with you when you travel or are there other alternatives to carrying cash that are safer and cost effective? \"], 'userReputation': [1112], '_version_': 1577028201509552128, 'userId': ['40'], 'views': [11525], 'accepted': [0], 'title': ['When traveling to a country with a different currency how should you take your money?'], 'downModVotes': [0], 'tags': ['<safety><international-travel><money><exchange>'], 'answerScore': [16], 'id': '36', 'authorUserId': ['10'], 'upModVotes': [16], 'authorUsername': ['Darren Kopp'], 'username': ['Rodolfo']}, {'answer': ['As I know in Russia visas can be achived for two ways By the invitation from some people or company in Russia and I think this is not for you because it not very stable way to get visa. li By the touristic trip or voucher. This can be made by travel agencies. Try to choose famous one like http nevatravel.ru a li Also in some cities you can stay for three days without visa but it is not for you I think. li ol Standart fee for the touristic visa 70 euro. If you have an invitation you will get your visa in 2 3 working days. '], 'subtitle': [\"I'm planning on taking the trans Siberian trans Mongolian from Moscow to Beijing via Ulaan Bataar next year and I'd like some advice on how best to organise the visa situation. I'm a British citizen partner is Swedish. We'll need visas for Russia China and Mongolia. Seeing as you can only book the train tickets like 3 months in advance and you need to get all the visas together in that time as well the process seems likely to be a bit complicated. Especially if you end up getting declined for a visa. What is the best process or method for obtaining the visas in which country order and is there any kind of trustworthy service that will do it for me? If I go through a service what happens if one of my visas is declined? \"], 'userReputation': [14507], '_version_': 1577028201524232192, 'userId': ['19'], 'views': [1515], 'accepted': [0], 'title': ['What is the best way to obtain visas for the Trans Siberian Trans Mongolian Railway?'], 'downModVotes': [1], 'tags': ['<russia><visas><china><mongolia><trans-siberian>'], 'answerScore': [13], 'id': '37', 'authorUserId': ['30'], 'upModVotes': [14], 'authorUsername': ['victoriah'], 'username': ['VMAtm']}, {'answer': ['This listing should get you started http www.airtimetable.com airpass north America.htm a '], 'subtitle': ['The next time family from overseas comes to visit me in the USA I would like for them to see the major sites in the USA. Is there such a thing as a prepaid flying tour of the USA? '], 'userReputation': [727], '_version_': 1577028201526329344, 'userId': ['23'], 'views': [482], 'accepted': [0], 'title': ['Sightseeing the USA by air'], 'downModVotes': [0], 'tags': ['<air-travel><usa><sightseeing><tours>'], 'answerScore': [6], 'id': '38', 'authorUserId': ['33'], 'upModVotes': [6], 'authorUsername': ['Raj More'], 'username': ['Michael Teper']}]\n"
     ]
    }
   ],
   "source": [
    "# training the retrival\n",
    "curdir = os.getcwd()\n",
    "\n",
    "#loading credentials\n",
    "credFilePath = curdir+'/answer-retrieval-master/config/credentials.json'\n",
    "credentials = ''\n",
    "with open(credFilePath) as credFile:\n",
    "    credentials = json.load(credFile)\n",
    "\n",
    "BASEURL=credentials['url']\n",
    "SOLRURL= BASEURL+\"solr_clusters/\"\n",
    "USERNAME=credentials['username']\n",
    "PASSWORD=credentials['password']\n",
    "SOLR_CLUSTER_ID=credentials['cluster_id']\n",
    "COLLECTION_NAME=credentials['collection_name']\n",
    "\n",
    "retrieve_and_rank = RetrieveAndRankV1(\n",
    "    username=USERNAME,\n",
    "    password=PASSWORD)\n",
    "\n",
    "#please provide the query to test\n",
    "QUESTION=\"what is the best city to visit in Brazil\"\n",
    "\n",
    "#please provide the number of documents the query should return\n",
    "MAX_DOCUMENTS=10\n",
    "\n",
    "#Running command that queries Solr\n",
    "QUESTION = QUESTION.replace(\" \",\"%20\")\n",
    "\n",
    "#Invoke Solr Search using python Solr client\n",
    "pysolr_client = retrieve_and_rank.get_pysolr_client(SOLR_CLUSTER_ID, COLLECTION_NAME)\n",
    "output = pysolr_client.search('*',fq=QUESTION,rows=10)\n",
    "\n",
    "try:\n",
    "    print (output.docs)\n",
    "except:\n",
    "    print ('Command:')\n",
    "    print ('pysolr_client.search()')\n",
    "    print ('Response:')\n",
    "    print (output)\n",
    " "
   ]
  },
  {
   "cell_type": "code",
   "execution_count": null,
   "metadata": {
    "collapsed": true
   },
   "outputs": [],
   "source": [
    "#Generating the training data\n",
    "curdir = os.getcwd()\n",
    "\n",
    "#loading credentials\n",
    "credFilePath = curdir+'/answer-retrieval-master/config/credentials.json'\n",
    "with open(credFilePath) as credFile:\n",
    "    credentials = json.load(credFile)"
   ]
  },
  {
   "cell_type": "code",
   "execution_count": 71,
   "metadata": {
    "collapsed": false,
    "scrolled": true
   },
   "outputs": [
    {
     "name": "stdout",
     "output_type": "stream",
     "text": [
      "b''\n"
     ]
    }
   ],
   "source": [
    "BASEURL=credentials['url']\n",
    "SOLRURL= BASEURL+\"solr_clusters/\"\n",
    "RANKER_URL=BASEURL+\"rankers\"\n",
    "USERNAME=credentials['username']\n",
    "PASSWORD=credentials['password']\n",
    "SOLR_CLUSTER_ID=credentials['cluster_id']\n",
    "COLLECTION_NAME=credentials['collection_name']\n",
    "TRAIN_FILE_PATH='C:/Users/Wenting\\ Li/answer-retrieval-master/bin/python' \n",
    "GROUND_TRUTH_FILE=\"C:/Users/Wenting\\ Li/answer-retrieval-master/data/groundtruth/answerGT_train.csv\"\n",
    "\n",
    "#Running command that trains a ranker \n",
    "#os.chdir('answer-retrieval-master/bin/python')\n",
    "cmd = 'python train.py -u %s:%s -i %s -c %s -x %s -n %s' %\\\n",
    "    (  USERNAME, PASSWORD, GROUND_TRUTH_FILE, SOLR_CLUSTER_ID, COLLECTION_NAME, \"travel_ranker\")\n",
    "#os.chdir(curdir)\n",
    "try:\n",
    "    process = subprocess.Popen(shlex.split(cmd), stdout=subprocess.PIPE)\n",
    "    output = process.communicate()[0]\n",
    "    print (output)\n",
    "except:\n",
    "    print ('Command:')\n",
    "    print (cmd)\n",
    "    print ('Response:')\n",
    "    print (output)"
   ]
  },
  {
   "cell_type": "code",
   "execution_count": 69,
   "metadata": {
    "collapsed": false
   },
   "outputs": [
    {
     "name": "stdout",
     "output_type": "stream",
     "text": [
      "C:\\Users\\Wenting Li\\answer-retrieval-master\\bin\\python\n"
     ]
    }
   ],
   "source": [
    "os.chdir('../Users')\n",
    "print (curdir)"
   ]
  },
  {
   "cell_type": "code",
   "execution_count": null,
   "metadata": {
    "collapsed": true
   },
   "outputs": [],
   "source": []
  }
 ],
 "metadata": {
  "kernelspec": {
   "display_name": "Python [Root]",
   "language": "python",
   "name": "Python [Root]"
  },
  "language_info": {
   "codemirror_mode": {
    "name": "ipython",
    "version": 3
   },
   "file_extension": ".py",
   "mimetype": "text/x-python",
   "name": "python",
   "nbconvert_exporter": "python",
   "pygments_lexer": "ipython3",
   "version": "3.5.1"
  }
 },
 "nbformat": 4,
 "nbformat_minor": 0
}
